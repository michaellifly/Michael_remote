{
 "cells": [
  {
   "cell_type": "code",
   "execution_count": 19,
   "metadata": {},
   "outputs": [
    {
     "data": {
      "text/plain": [
       "562"
      ]
     },
     "execution_count": 19,
     "metadata": {},
     "output_type": "execute_result"
    }
   ],
   "source": [
    "len(file_1_txt)"
   ]
  },
  {
   "cell_type": "code",
   "execution_count": 12,
   "metadata": {},
   "outputs": [],
   "source": [
    "file_1_txt ='i took a walk around the world to ease my troubled mind i left my body lying somewhere in the sands of time i watched the world float to the dark side of the moon i feel there is nothing i can do yeah i watched the world float to the dark side of the moon after all i knew it had to be something to do with you i really dont mind what happens now and then as long as youll be my friend at the end if i go crazy then will you still call me superman if im alive and well will you be there holding my hand ill keep you by my side with my superhuman might kryptonite'\n",
    "\n",
    "\n",
    "\n",
    "file_2_txt ='i dont care if i go crazy then one two three four five switch crazy go i if care dont i five four three two one and switch'\n",
    "\n",
    "file_3_txt = 'when i was young i took a walk around the woods i found that i was both taller and smaller than the trees returning to my home i set out for the desert i journeyed for long days and nights my spirit left my body and i left my body lying somewhere in the sands of time unburdened by physical form i watched the world float away from me and into the vast moonlight'\n"
   ]
  },
  {
   "cell_type": "code",
   "execution_count": 29,
   "metadata": {},
   "outputs": [
    {
     "name": "stdout",
     "output_type": "stream",
     "text": [
      "10\n",
      "9\n",
      "8\n",
      "7\n",
      "6\n"
     ]
    }
   ],
   "source": [
    "for i in range(10,5,-1):\n",
    "    print(i)"
   ]
  },
  {
   "cell_type": "code",
   "execution_count": 24,
   "metadata": {},
   "outputs": [
    {
     "data": {
      "text/plain": [
       "'i too'"
      ]
     },
     "execution_count": 24,
     "metadata": {},
     "output_type": "execute_result"
    }
   ],
   "source": [
    "file_1_txt[0:5]"
   ]
  },
  {
   "cell_type": "code",
   "execution_count": 20,
   "metadata": {},
   "outputs": [
    {
     "name": "stdout",
     "output_type": "stream",
     "text": [
      "6\n",
      "7\n",
      "8\n",
      "9\n"
     ]
    }
   ],
   "source": [
    "for i in range(6,10):\n",
    "    print(i)"
   ]
  },
  {
   "cell_type": "code",
   "execution_count": 17,
   "metadata": {},
   "outputs": [
    {
     "data": {
      "text/plain": [
       "['i',\n",
       " 'took',\n",
       " 'a',\n",
       " 'walk',\n",
       " 'around',\n",
       " 'the',\n",
       " 'world',\n",
       " 'to',\n",
       " 'ease',\n",
       " 'my',\n",
       " 'troubled',\n",
       " 'mind',\n",
       " 'i',\n",
       " 'left',\n",
       " 'my',\n",
       " 'body',\n",
       " 'lying',\n",
       " 'somewhere',\n",
       " 'in',\n",
       " 'the',\n",
       " 'sands',\n",
       " 'of',\n",
       " 'time',\n",
       " 'i',\n",
       " 'watched',\n",
       " 'the',\n",
       " 'world',\n",
       " 'float',\n",
       " 'to',\n",
       " 'the',\n",
       " 'dark',\n",
       " 'side',\n",
       " 'of',\n",
       " 'the',\n",
       " 'moon',\n",
       " 'i',\n",
       " 'feel',\n",
       " 'there',\n",
       " 'is',\n",
       " 'nothing',\n",
       " 'i',\n",
       " 'can',\n",
       " 'do',\n",
       " 'yeah',\n",
       " 'i',\n",
       " 'watched',\n",
       " 'the',\n",
       " 'world',\n",
       " 'float',\n",
       " 'to',\n",
       " 'the',\n",
       " 'dark',\n",
       " 'side',\n",
       " 'of',\n",
       " 'the',\n",
       " 'moon',\n",
       " 'after',\n",
       " 'all',\n",
       " 'i',\n",
       " 'knew',\n",
       " 'it',\n",
       " 'had',\n",
       " 'to',\n",
       " 'be',\n",
       " 'something',\n",
       " 'to',\n",
       " 'do',\n",
       " 'with',\n",
       " 'you',\n",
       " 'i',\n",
       " 'really',\n",
       " 'dont',\n",
       " 'mind',\n",
       " 'what',\n",
       " 'happens',\n",
       " 'now',\n",
       " 'and',\n",
       " 'then',\n",
       " 'as',\n",
       " 'long',\n",
       " 'as',\n",
       " 'youll',\n",
       " 'be',\n",
       " 'my',\n",
       " 'friend',\n",
       " 'at',\n",
       " 'the',\n",
       " 'end',\n",
       " 'if',\n",
       " 'i',\n",
       " 'go',\n",
       " 'crazy',\n",
       " 'then',\n",
       " 'will',\n",
       " 'you',\n",
       " 'still',\n",
       " 'call',\n",
       " 'me',\n",
       " 'superman',\n",
       " 'if',\n",
       " 'im',\n",
       " 'alive',\n",
       " 'and',\n",
       " 'well',\n",
       " 'will',\n",
       " 'you',\n",
       " 'be',\n",
       " 'there',\n",
       " 'holding',\n",
       " 'my',\n",
       " 'hand',\n",
       " 'ill',\n",
       " 'keep',\n",
       " 'you',\n",
       " 'by',\n",
       " 'my',\n",
       " 'side',\n",
       " 'with',\n",
       " 'my',\n",
       " 'superhuman',\n",
       " 'might',\n",
       " 'kryptonite']"
      ]
     },
     "execution_count": 17,
     "metadata": {},
     "output_type": "execute_result"
    }
   ],
   "source": [
    "file_1_txt.split()"
   ]
  },
  {
   "cell_type": "code",
   "execution_count": 74,
   "metadata": {},
   "outputs": [],
   "source": [
    "def check_plagiarism(file1,file2):\n",
    "\n",
    "    if len(file1) >= len(file2):\n",
    "        min_file = file2\n",
    "        max_file = file1\n",
    "    else:\n",
    "        min_file = file1\n",
    "        max_file = file2       \n",
    "\n",
    "    min_list = min_file.split()\n",
    "    max_list = max_file.split()\n",
    "\n",
    "\n",
    "    for start_character in range(0,len(min_list)-4):\n",
    "        #print(f'start_character {start_character}')\n",
    "        for i in range( len(min_list),4,-1):\n",
    "            #print(f'len_min_ist {len(min_list)}')\n",
    "            min_list_check = min_list[start_character:i]\n",
    "\n",
    "            #print(f'min_list_check {min_list_check}')\n",
    "            for j in range(0,len(max_list)-len(min_list)+1):\n",
    "                #print(f'location {len(max_list)-len(min_list)+1}')\n",
    "\n",
    "                #print(f'j is {j}')\n",
    "                #print(f'max_list is {max_list[j:j+len(min_list_check)]}')\n",
    "                \n",
    "                if min_list_check == max_list[j:j+len(min_list_check)]:\n",
    "                    return ' '.join(min_list_check)\n",
    "    \n",
    "    return False\n",
    "\n",
    "\n",
    "\n",
    "    \n",
    "                \n"
   ]
  },
  {
   "cell_type": "code",
   "execution_count": 77,
   "metadata": {},
   "outputs": [
    {
     "name": "stdout",
     "output_type": "stream",
     "text": [
      "if i go crazy then\n",
      "i took a walk around the\n",
      "i\n"
     ]
    }
   ],
   "source": [
    "print(check_plagiarism(file_1_txt, file_2_txt))\n",
    "print(check_plagiarism(file_1_txt, file_3_txt))\n",
    "print(check_plagiarism(file_2_txt, file_3_txt))\n"
   ]
  },
  {
   "cell_type": "code",
   "execution_count": null,
   "metadata": {},
   "outputs": [],
   "source": []
  }
 ],
 "metadata": {
  "kernelspec": {
   "display_name": "Python 3.8.8 ('base')",
   "language": "python",
   "name": "python3"
  },
  "language_info": {
   "codemirror_mode": {
    "name": "ipython",
    "version": 3
   },
   "file_extension": ".py",
   "mimetype": "text/x-python",
   "name": "python",
   "nbconvert_exporter": "python",
   "pygments_lexer": "ipython3",
   "version": "3.8.8"
  },
  "orig_nbformat": 4,
  "vscode": {
   "interpreter": {
    "hash": "bef71e9a1839ddf9b8a6a6d8ca85f40c54041f059617ccf0119f29579b663299"
   }
  }
 },
 "nbformat": 4,
 "nbformat_minor": 2
}
