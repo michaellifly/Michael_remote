{
 "cells": [
  {
   "cell_type": "markdown",
   "source": [
    "This notebook was prepared by [Donne Martin](http://donnemartin.com). Source and license info is on [GitHub](https://github.com/donnemartin/interactive-coding-challenges)."
   ],
   "metadata": {}
  },
  {
   "cell_type": "markdown",
   "source": [
    "# Challenge Notebook"
   ],
   "metadata": {}
  },
  {
   "cell_type": "markdown",
   "source": [
    "## Problem: Implement an algorithm to determine if a string has all unique characters.\n",
    "\n",
    "* [Constraints](#Constraints)\n",
    "* [Test Cases](#Test-Cases)\n",
    "* [Algorithm](#Algorithm)\n",
    "* [Code](#Code)\n",
    "* [Unit Test](#Unit-Test)\n",
    "* [Solution Notebook](#Solution-Notebook)"
   ],
   "metadata": {}
  },
  {
   "cell_type": "markdown",
   "source": [
    "## Constraints\n",
    "\n",
    "* Can we assume the string is ASCII?\n",
    "    * Yes\n",
    "    * Note: Unicode strings could require special handling depending on your language\n",
    "* Can we assume this is case sensitive?\n",
    "    * Yes\n",
    "* Can we use additional data structures?\n",
    "    * Yes\n",
    "* Can we assume this fits in memory?\n",
    "    * Yes"
   ],
   "metadata": {}
  },
  {
   "cell_type": "markdown",
   "source": [
    "## Test Cases\n",
    "\n",
    "* None -> False\n",
    "* '' -> True\n",
    "* 'foo' -> False\n",
    "* 'bar' -> True"
   ],
   "metadata": {}
  },
  {
   "cell_type": "markdown",
   "source": [
    "## Algorithm\n",
    "\n",
    "Refer to the [Solution Notebook](http://nbviewer.ipython.org/github/donnemartin/interactive-coding-challenges/blob/master/arrays_strings/unique_chars/unique_chars_solution.ipynb).  If you are stuck and need a hint, the solution notebook's algorithm discussion might be a good place to start."
   ],
   "metadata": {}
  },
  {
   "cell_type": "markdown",
   "source": [
    "## Code"
   ],
   "metadata": {}
  },
  {
   "cell_type": "code",
   "execution_count": 2,
   "source": [
    "# class UniqueChars(object):\r\n",
    "\r\n",
    "#     def has_unique_chars(self, string):\r\n",
    "#         if string is None:\r\n",
    "#             return False\r\n",
    "\r\n",
    "#         return len(set(string))== len(string)"
   ],
   "outputs": [],
   "metadata": {}
  },
  {
   "cell_type": "code",
   "execution_count": 5,
   "source": [
    "# class UniqueChars(object):\r\n",
    "\r\n",
    "#     def has_unique_chars(self, string):\r\n",
    "#         if string is None:\r\n",
    "#             return False\r\n",
    "#         chars_set = set()\r\n",
    "#         for char in string:\r\n",
    "#             if char in chars_set:\r\n",
    "#                 return False\r\n",
    "#             else:\r\n",
    "#                 chars_set.add(char)\r\n",
    "#         return True"
   ],
   "outputs": [],
   "metadata": {}
  },
  {
   "cell_type": "code",
   "execution_count": 7,
   "source": [
    "class UniqueChars(object):\r\n",
    "\r\n",
    "    def has_unique_chars(self, string):\r\n",
    "        if string is None:\r\n",
    "            return False\r\n",
    "        for char in string:\r\n",
    "            if string.count(char)>1:\r\n",
    "                return False\r\n",
    "\r\n",
    "        return True"
   ],
   "outputs": [],
   "metadata": {}
  },
  {
   "cell_type": "markdown",
   "source": [
    "## Unit Test"
   ],
   "metadata": {}
  },
  {
   "cell_type": "markdown",
   "source": [
    "**The following unit test is expected to fail until you solve the challenge.**"
   ],
   "metadata": {}
  },
  {
   "cell_type": "code",
   "execution_count": 8,
   "source": [
    "# %load test_unique_chars.py\r\n",
    "import unittest\r\n",
    "\r\n",
    "\r\n",
    "class TestUniqueChars(unittest.TestCase):\r\n",
    "\r\n",
    "    def test_unique_chars(self, func):\r\n",
    "        self.assertEqual(func(None), False)\r\n",
    "        self.assertEqual(func(''), True)\r\n",
    "        self.assertEqual(func('foo'), False)\r\n",
    "        self.assertEqual(func('bar'), True)\r\n",
    "        print('Success: test_unique_chars')\r\n",
    "\r\n",
    "\r\n",
    "def main():\r\n",
    "    test = TestUniqueChars()\r\n",
    "    unique_chars = UniqueChars()\r\n",
    "    test.test_unique_chars(unique_chars.has_unique_chars)\r\n",
    "    try:\r\n",
    "        unique_chars_set = UniqueCharsSet()\r\n",
    "        test.test_unique_chars(unique_chars_set.has_unique_chars)\r\n",
    "        unique_chars_in_place = UniqueCharsInPlace()\r\n",
    "        test.test_unique_chars(unique_chars_in_place.has_unique_chars)\r\n",
    "    except NameError:\r\n",
    "        # Alternate solutions are only defined\r\n",
    "        # in the solutions file\r\n",
    "        pass\r\n",
    "\r\n",
    "\r\n",
    "if __name__ == '__main__':\r\n",
    "    main()"
   ],
   "outputs": [
    {
     "output_type": "stream",
     "name": "stdout",
     "text": [
      "Success: test_unique_chars\n"
     ]
    }
   ],
   "metadata": {}
  },
  {
   "cell_type": "markdown",
   "source": [
    "## Solution Notebook\n",
    "\n",
    "Review the [Solution Notebook](http://nbviewer.ipython.org/github/donnemartin/interactive-coding-challenges/blob/master/arrays_strings/unique_chars/unique_chars_solution.ipynb) for a discussion on algorithms and code solutions."
   ],
   "metadata": {}
  }
 ],
 "metadata": {
  "kernelspec": {
   "name": "python3",
   "display_name": "Python 3.7.6 64-bit (conda)"
  },
  "language_info": {
   "codemirror_mode": {
    "name": "ipython",
    "version": 3
   },
   "file_extension": ".py",
   "mimetype": "text/x-python",
   "name": "python",
   "nbconvert_exporter": "python",
   "pygments_lexer": "ipython3",
   "version": "3.7.6"
  },
  "interpreter": {
   "hash": "a4c6f6dca0b39727a1d31abc575f26c9e9c5e97275968b776bf7d6bafbe246da"
  }
 },
 "nbformat": 4,
 "nbformat_minor": 1
}