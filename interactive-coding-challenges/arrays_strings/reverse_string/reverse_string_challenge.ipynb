{
 "cells": [
  {
   "cell_type": "markdown",
   "source": [
    "This notebook was prepared by [Donne Martin](http://donnemartin.com). Source and license info is on [GitHub](https://github.com/donnemartin/interactive-coding-challenges)."
   ],
   "metadata": {}
  },
  {
   "cell_type": "markdown",
   "source": [
    "# Challenge Notebook"
   ],
   "metadata": {}
  },
  {
   "cell_type": "markdown",
   "source": [
    "## Problem: Implement a function to reverse a string (a list of characters), in-place.\n",
    "\n",
    "* [Constraints](#Constraints)\n",
    "* [Test Cases](#Test-Cases)\n",
    "* [Algorithm](#Algorithm)\n",
    "* [Code](#Code)\n",
    "* [Unit Test](#Unit-Test)\n",
    "* [Solution Notebook](#Solution-Notebook)"
   ],
   "metadata": {}
  },
  {
   "cell_type": "markdown",
   "source": [
    "## Constraints\n",
    "\n",
    "* Can we assume the string is ASCII?\n",
    "    * Yes\n",
    "    * Note: Unicode strings could require special handling depending on your language\n",
    "* Since we need to do this in-place, it seems we cannot use the slice operator or the reversed function?\n",
    "    * Correct\n",
    "* Since Python string are immutable, can we use a list of characters instead?\n",
    "    * Yes"
   ],
   "metadata": {}
  },
  {
   "cell_type": "markdown",
   "source": [
    "## Test Cases\n",
    "\n",
    "* None -> None\n",
    "* [''] -> ['']\n",
    "* ['f', 'o', 'o', ' ', 'b', 'a', 'r'] -> ['r', 'a', 'b', ' ', 'o', 'o', 'f']"
   ],
   "metadata": {}
  },
  {
   "cell_type": "markdown",
   "source": [
    "## Algorithm\n",
    "\n",
    "Refer to the [Solution Notebook](http://nbviewer.ipython.org/github/donnemartin/interactive-coding-challenges/blob/master/arrays_strings/reverse_string/reverse_string_solution.ipynb).  If you are stuck and need a hint, the solution notebook's algorithm discussion might be a good place to start."
   ],
   "metadata": {}
  },
  {
   "cell_type": "markdown",
   "source": [
    "## Code"
   ],
   "metadata": {}
  },
  {
   "cell_type": "code",
   "execution_count": null,
   "source": [
    "\r\n",
    "from __future__ import division\r\n",
    "\r\n",
    "class ReverseString(object):\r\n",
    "\r\n",
    "    def reverse(self, chars):\r\n",
    "        if chars:\r\n",
    "            size = len(chars)\r\n",
    "            for i in range(size //2):\r\n",
    "                char[i], char[size-1-i] = \\\r\n",
    "                    char[size-1-i], chars[i]\r\n",
    "\r\n",
    "        return chars\r\n",
    "\r\n"
   ],
   "outputs": [],
   "metadata": {}
  },
  {
   "cell_type": "code",
   "execution_count": 25,
   "source": [
    "class ReverseStringAlt(object):\r\n",
    "\r\n",
    "    def reverse_string_alt(self,string):\r\n",
    "        if string:\r\n",
    "            return string[::-1]\r\n",
    "        return string\r\n",
    "\r\n",
    "\r\n",
    "\r\n",
    "    def reverse_string_alt2(self,string):\r\n",
    "        if string:\r\n",
    "            return ''.join(reversed(string))\r\n",
    "        return string\r\n"
   ],
   "outputs": [],
   "metadata": {}
  },
  {
   "cell_type": "code",
   "execution_count": 23,
   "source": [
    "a=ReverseStringAlt()"
   ],
   "outputs": [],
   "metadata": {}
  },
  {
   "cell_type": "code",
   "execution_count": 18,
   "source": [
    " ['f', 'o', 'o', ' ', 'b', 'a', 'r'][::-1]"
   ],
   "outputs": [
    {
     "output_type": "execute_result",
     "data": {
      "text/plain": [
       "['r', 'a', 'b', ' ', 'o', 'o', 'f']"
      ]
     },
     "metadata": {},
     "execution_count": 18
    }
   ],
   "metadata": {}
  },
  {
   "cell_type": "code",
   "execution_count": 26,
   "source": [
    "a.reverse_string_alt2(['f', 'o', 'o', ' ', 'b', 'a', 'r'])"
   ],
   "outputs": [
    {
     "output_type": "execute_result",
     "data": {
      "text/plain": [
       "['r', 'a', 'b', ' ', 'o', 'o', 'f']"
      ]
     },
     "metadata": {},
     "execution_count": 26
    }
   ],
   "metadata": {}
  },
  {
   "cell_type": "code",
   "execution_count": 6,
   "source": [
    "if []:\r\n",
    "    print(1)\r\n",
    "else:\r\n",
    "    print(2)"
   ],
   "outputs": [
    {
     "output_type": "stream",
     "name": "stdout",
     "text": [
      "2\n"
     ]
    }
   ],
   "metadata": {}
  },
  {
   "cell_type": "markdown",
   "source": [
    "## Unit Test"
   ],
   "metadata": {}
  },
  {
   "cell_type": "markdown",
   "source": [
    "\n",
    "\n",
    "**The following unit test is expected to fail until you solve the challenge.**"
   ],
   "metadata": {}
  },
  {
   "cell_type": "code",
   "execution_count": null,
   "source": [
    "# %load test_reverse_string.py\r\n",
    "import unittest\r\n",
    "\r\n",
    "\r\n",
    "class TestReverse(unittest.TestCase):\r\n",
    "\r\n",
    "    def test_reverse(self, func):\r\n",
    "        self.assertEqual(func(None), None)\r\n",
    "        self.assertEqual(func(['']), [''])\r\n",
    "        self.assertEqual(func(\r\n",
    "            ['f', 'o', 'o', ' ', 'b', 'a', 'r']),\r\n",
    "            ['r', 'a', 'b', ' ', 'o', 'o', 'f'])\r\n",
    "        print('Success: test_reverse')\r\n",
    "\r\n",
    "    def test_reverse_inplace(self, func):\r\n",
    "        target_list = ['f', 'o', 'o', ' ', 'b', 'a', 'r']\r\n",
    "        func(target_list)\r\n",
    "        self.assertEqual(target_list, ['r', 'a', 'b', ' ', 'o', 'o', 'f'])\r\n",
    "        print('Success: test_reverse_inplace')\r\n",
    "\r\n",
    "\r\n",
    "def main():\r\n",
    "    test = TestReverse()\r\n",
    "    reverse_string = ReverseString()\r\n",
    "    test.test_reverse(reverse_string.reverse)\r\n",
    "    test.test_reverse_inplace(reverse_string.reverse)\r\n",
    "\r\n",
    "\r\n",
    "if __name__ == '__main__':\r\n",
    "    main()"
   ],
   "outputs": [],
   "metadata": {}
  },
  {
   "cell_type": "markdown",
   "source": [
    "## Solution Notebook\n",
    "\n",
    "Review the [Solution Notebook](http://nbviewer.ipython.org/github/donnemartin/interactive-coding-challenges/blob/master/arrays_strings/reverse_string/reverse_string_solution.ipynb) for a discussion on algorithms and code solutions."
   ],
   "metadata": {}
  }
 ],
 "metadata": {
  "kernelspec": {
   "name": "python3",
   "display_name": "Python 3.7.3 64-bit ('.venv': venv)"
  },
  "language_info": {
   "codemirror_mode": {
    "name": "ipython",
    "version": 3
   },
   "file_extension": ".py",
   "mimetype": "text/x-python",
   "name": "python",
   "nbconvert_exporter": "python",
   "pygments_lexer": "ipython3",
   "version": "3.7.3"
  },
  "interpreter": {
   "hash": "72e113c3c1a93e622de622b15597489e616634833cb08580892773ef93beb903"
  }
 },
 "nbformat": 4,
 "nbformat_minor": 1
}