{
 "cells": [
  {
   "cell_type": "markdown",
   "source": [
    "This notebook was prepared by [Donne Martin](http://donnemartin.com). Source and license info is on [GitHub](https://github.com/donnemartin/interactive-coding-challenges)."
   ],
   "metadata": {}
  },
  {
   "cell_type": "markdown",
   "source": [
    "# Challenge Notebook"
   ],
   "metadata": {}
  },
  {
   "cell_type": "markdown",
   "source": [
    "## Problem: Compress a string such that 'AAABCCDDDD' becomes 'A3BC2D4'.  Only compress the string if it saves space.\r\n",
    "\r\n",
    "* [Constraints](#Constraints)\r\n",
    "* [Test Cases](#Test-Cases)\r\n",
    "* [Algorithm](#Algorithm)\r\n",
    "* [Code](#Code)\r\n",
    "* [Unit Test](#Unit-Test)\r\n",
    "* [Solution Notebook](#Solution-Notebook)"
   ],
   "metadata": {}
  },
  {
   "cell_type": "markdown",
   "source": [
    "## Constraints\r\n",
    "\r\n",
    "* Can we assume the string is ASCII?\r\n",
    "    * Yes\r\n",
    "    * Note: Unicode strings could require special handling depending on your language\r\n",
    "* Is this case sensitive?\r\n",
    "    * Yes\r\n",
    "* Can we use additional data structures?  \r\n",
    "    * Yes\r\n",
    "* Can we assume this fits in memory?\r\n",
    "    * Yes"
   ],
   "metadata": {}
  },
  {
   "cell_type": "markdown",
   "source": [
    "## Test Cases\r\n",
    "\r\n",
    "* None -> None\r\n",
    "* '' -> ''\r\n",
    "* 'AABBCC' -> 'AABBCC'\r\n",
    "* 'AAABCCDDDD' -> 'A3BC2D4'"
   ],
   "metadata": {}
  },
  {
   "cell_type": "markdown",
   "source": [
    "## Algorithm\r\n",
    "\r\n",
    "Refer to the [Solution Notebook](http://nbviewer.ipython.org/github/donnemartin/interactive-coding-challenges/blob/master/arrays_strings/compress/compress_solution.ipynb).  If you are stuck and need a hint, the solution notebook's algorithm discussion might be a good place to start."
   ],
   "metadata": {}
  },
  {
   "cell_type": "markdown",
   "source": [
    "## Code"
   ],
   "metadata": {}
  },
  {
   "cell_type": "code",
   "execution_count": 2,
   "source": [
    "class CompressString(object):\r\n",
    "\r\n",
    "    def compress(self, string):\r\n",
    "        \r\n",
    "        if string is None or not string:\r\n",
    "            return string\r\n",
    "\r\n",
    "        result = ''\r\n",
    "\r\n",
    "        prev_char = string[0]\r\n",
    "        count =0\r\n",
    "        for char in string:\r\n",
    "            if char == prev_char:\r\n",
    "                count +=1\r\n",
    "            else:\r\n",
    "                result  += self._calc_partial_result(prev_char, count)\r\n",
    "                prev_char = char\r\n",
    "                count =1\r\n",
    "        \r\n",
    "        result += self._calc_partial_result(prev_char,count)\r\n",
    "        return result if len(result) < len(string) else string\r\n",
    "\r\n",
    "    \r\n",
    "    def _calc_partial_result(self, pre_char, count):\r\n",
    "        return pre_char + (str(count) if count >1 else '')\r\n",
    "            \r\n",
    "                            \r\n",
    "        "
   ],
   "outputs": [],
   "metadata": {}
  },
  {
   "cell_type": "markdown",
   "source": [
    "## Unit Test"
   ],
   "metadata": {}
  },
  {
   "cell_type": "markdown",
   "source": [
    "\r\n",
    "\r\n",
    "**The following unit test is expected to fail until you solve the challenge.**"
   ],
   "metadata": {}
  },
  {
   "cell_type": "code",
   "execution_count": 3,
   "source": [
    "# %load test_compress.py\r\n",
    "import unittest\r\n",
    "\r\n",
    "\r\n",
    "class TestCompress(unittest.TestCase):\r\n",
    "\r\n",
    "    def test_compress(self, func):\r\n",
    "        self.assertEqual(func(None), None)\r\n",
    "        self.assertEqual(func(''), '')\r\n",
    "        self.assertEqual(func('AABBCC'), 'AABBCC')\r\n",
    "        self.assertEqual(func('AAABCCDDDDE'), 'A3BC2D4E')\r\n",
    "        self.assertEqual(func('BAAACCDDDD'), 'BA3C2D4')\r\n",
    "        self.assertEqual(func('AAABAACCDDDD'), 'A3BA2C2D4')\r\n",
    "        print('Success: test_compress')\r\n",
    "\r\n",
    "\r\n",
    "def main():\r\n",
    "    test = TestCompress()\r\n",
    "    compress_string = CompressString()\r\n",
    "    test.test_compress(compress_string.compress)\r\n",
    "\r\n",
    "\r\n",
    "if __name__ == '__main__':\r\n",
    "    main()"
   ],
   "outputs": [
    {
     "output_type": "stream",
     "name": "stdout",
     "text": [
      "Success: test_compress\n"
     ]
    }
   ],
   "metadata": {}
  },
  {
   "cell_type": "markdown",
   "source": [
    "## Solution Notebook\r\n",
    "\r\n",
    "Review the [Solution Notebook](http://nbviewer.ipython.org/github/donnemartin/interactive-coding-challenges/blob/master/arrays_strings/compress/compress_solution.ipynb) for a discussion on algorithms and code solutions."
   ],
   "metadata": {}
  }
 ],
 "metadata": {
  "kernelspec": {
   "name": "python3",
   "display_name": "Python 3.7.3 64-bit ('.venv': venv)"
  },
  "language_info": {
   "codemirror_mode": {
    "name": "ipython",
    "version": 3
   },
   "file_extension": ".py",
   "mimetype": "text/x-python",
   "name": "python",
   "nbconvert_exporter": "python",
   "pygments_lexer": "ipython3",
   "version": "3.7.3"
  },
  "interpreter": {
   "hash": "72e113c3c1a93e622de622b15597489e616634833cb08580892773ef93beb903"
  }
 },
 "nbformat": 4,
 "nbformat_minor": 1
}